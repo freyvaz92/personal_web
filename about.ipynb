{
  "cells": [
    {
      "cell_type": "raw",
      "metadata": {},
      "source": [
        "---\n",
        "title: \"PERFIL\"\n",
        "image: profile.png\n",
        "about: \n",
        "  template: trestles\n",
        "  links:\n",
        "    - icon: twitter\n",
        "      text: Twitter\n",
        "      href: https://twitter.com/freyvaz92\n",
        "    - icon: facebook\n",
        "      text: Facebook\n",
        "      href: https://www.facebook.com/freyvaz92\n",
        "    - icon: academia\n",
        "      text: Academia.edu\n",
        "      href: https://colmex.academia.edu/FranciscoReyesV%C3%A1zquez\n",
        "---"
      ],
      "id": "1589152f"
    },
    {
      "cell_type": "markdown",
      "metadata": {},
      "source": [
        "# FRANCISCO `r kableExtra::text_spec(\"REYES-VÁZQUEZ\", color = \"#D77D10\")`\n",
        "\n",
        "\n",
        "```{css, echo=FALSE}\n",
        "pre {\n",
        "  background-color: lightgray;\n",
        "  padding: 10px;\n",
        "}\n",
        "Soy candidato a doctor en Estudios de Población con experiencia en el desarrollo y colaboración de proyectos de investigación relacionados con temas como violencia, calidad de vida, grupos indígenas y migración. Además, he contribuido a la organización de seminarios académicos para la difusión científica y trabajé como servidor público en agencias gubernamentales en la administración pública municipal de Ciudad Juárez, Chihuahua. Actualmente me dedico al manejo bases de datos, y la uso de la estadística descriptiva, inferencial y espacial aplicada a la investigación en Ciencias Sociales\n",
        "\n",
        "```\n",
        "\n",
        "### Educación\n",
        "\n",
        "`r kableExtra::text_spec(\"**El Colegio de México**\", color = \"#D77D10\")` \\| **Doctorado en Estudios de Población \\| 2020**\n",
        "\n",
        "> **Proyecto de tesis:** \"El impacto del estatus de documentación sobre la condición de pobreza de los migrantes mexicanos y chinos en Estados Unidos\".\n",
        "\n",
        "`r kableExtra::text_spec(\"**El Colegio de la Frontera Norte**\", color = \"#D77D10\")` \\| **Maestría en Estudios de Población \\| 2016-2018**\n",
        "\n",
        "> **Proyecto de tesis:** \"Calidad de vida urbana en las zonas marginadas de las ciudades de la frontera norte y sur de México\".\n",
        "\n",
        "`r kableExtra::text_spec(\"**Universidad Autónoma de Ciudad Juárez**\", color = \"#D77D10\")` \\| **Licenciatura en Sociología \\| 2010-2015**\n",
        "\n",
        "> **Proyecto de tesis:** \"Pobreza, marginalidad y exclusión social de los tarahumaras en el norponiente de Ciudad Juárez, Chihuahua\"."
      ],
      "id": "03347b7e"
    }
  ],
  "metadata": {
    "kernelspec": {
      "display_name": "Python 3",
      "language": "python",
      "name": "python3"
    }
  },
  "nbformat": 4,
  "nbformat_minor": 5
}